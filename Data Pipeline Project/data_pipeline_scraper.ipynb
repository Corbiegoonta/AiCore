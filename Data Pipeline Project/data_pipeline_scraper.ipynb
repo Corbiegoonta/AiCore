{
 "cells": [
  {
   "cell_type": "code",
   "execution_count": 1,
   "metadata": {},
   "outputs": [
    {
     "name": "stderr",
     "output_type": "stream",
     "text": [
      "\n",
      "\n",
      "====== WebDriver manager ======\n",
      "Could not get version for google-chrome with the command:  powershell \"$ErrorActionPreference='silentlycontinue' ; (Get-Item -Path \"$env:PROGRAMFILES\\Google\\Chrome\\Application\\chrome.exe\").VersionInfo.FileVersion ; if (-not $? -or $? -match $error) { (Get-Item -Path \"$env:PROGRAMFILES(x86)\\Google\\Chrome\\Application\\chrome.exe\").VersionInfo.FileVersion } if (-not $? -or $? -match $error) { (Get-Item -Path \"$env:LOCALAPPDATA\\Google\\Chrome\\Application\\chrome.exe\").VersionInfo.FileVersion } if (-not $? -or $? -match $error) { reg query \"HKCU\\SOFTWARE\\Google\\Chrome\\BLBeacon\" /v version } if (-not $? -or $? -match $error) { reg query \"HKLM\\SOFTWARE\\Wow6432Node\\Microsoft\\Windows\\CurrentVersion\\Uninstall\\Google Chrome\" /v version }\"\n",
      "Current google-chrome version is UNKNOWN\n",
      "Get LATEST chromedriver version for UNKNOWN google-chrome\n",
      "Trying to download new driver from https://chromedriver.storage.googleapis.com/99.0.4844.51/chromedriver_win32.zip\n",
      "Driver has been saved in cache [C:\\Users\\nickc\\.wdm\\drivers\\chromedriver\\win32\\99.0.4844.51]\n"
     ]
    },
    {
     "name": "stdout",
     "output_type": "stream",
     "text": [
      "[<selenium.webdriver.remote.webelement.WebElement (session=\"6274bae2c895e24595f09c1af3ed6330\", element=\"150a830c-1606-46ae-8ce5-f6f095c3cc23\")>]\n"
     ]
    }
   ],
   "source": [
    "from selenium.webdriver import Chrome\n",
    "from webdriver_manager.chrome import ChromeDriverManager\n",
    "from selenium.webdriver.common.by import By\n",
    "from selenium.common.exceptions import TimeoutException\n",
    "from selenium.webdriver.support.ui import WebDriverWait\n",
    "from selenium.webdriver.support import expected_conditions as EC\n",
    "from selenium.webdriver.common.keys import Keys\n",
    "import time\n",
    "\n",
    "driver = Chrome(ChromeDriverManager().install())\n",
    "driver.get('https://www.displayspecifications.com/en')\n",
    "time.sleep(2)\n",
    "accept_cookies = driver.find_element_by_xpath('//a[@id=\"cookie_consent_accept\"]')\n",
    "accept_cookies.click()\n",
    "brands = driver.find_elements_by_xpath('//div[@class=\"brand-listing-container-frontpage\"]')\n",
    "print(brands)\n",
    "# search_bar = driver.find_element_by_xpath('//input[@id=\"search\"]')\n",
    "# search_bar.click\n",
    "# search_bar.send_keys('Samsung')\n",
    "# search_button = driver.find_element_by_xpath(search_buttons)\n",
    "# search_button.click()\n",
    "\n",
    "class Scraper():\n",
    "    def __init__(self, url:str = None):\n",
    "        self.driver = Chrome(url)\n",
    "        self.display_dict = {\n",
    "                        'Brand' : [],\n",
    "                        'Link' : [],\n",
    "                        'Size' : [],\n",
    "                        'Resolution' : []\n",
    "        }\n",
    "        pass\n",
    "\n",
    "    def navigate_to_website(url='https://www.displayspecifications.com/en'):\n",
    "        driver.get(url)\n",
    "        time.sleep(2)\n",
    "        pass\n",
    "\n",
    "    def bypass_cookies(self, cookie_xpath='//a[@id=\"cookie_consent_accept\"]'):\n",
    "        try:\n",
    "            accept_cookies = WebDriverWait(self.driver, 5).until(EC.presence_of_element_located(By.XPATH, cookie_xpath))\n",
    "            accept_cookies.click()\n",
    "        except TimeoutException:\n",
    "            print(\"No cookies found.\")\n",
    "        pass\n",
    "\n",
    "    def search(search_xpath=None, search_item=None, search_buttons=None):\n",
    "        search_bar = driver.find_element_by_xpath(search_xpath)\n",
    "        search_bar.click\n",
    "        search_bar.send_keys(search_item)\n",
    "        search_bar.send_keys(Keys.ENTER)\n",
    "        # search_button = driver.find_element_by_xpath(search_buttons)\n",
    "        # search_button.click()\n",
    "        pass\n",
    "\n",
    "\n",
    "    "
   ]
  },
  {
   "cell_type": "code",
   "execution_count": null,
   "metadata": {},
   "outputs": [],
   "source": []
  },
  {
   "cell_type": "code",
   "execution_count": 1,
   "metadata": {},
   "outputs": [
    {
     "name": "stderr",
     "output_type": "stream",
     "text": [
      "\n",
      "\n",
      "====== WebDriver manager ======\n",
      "Could not get version for google-chrome with the command:  powershell \"$ErrorActionPreference='silentlycontinue' ; (Get-Item -Path \"$env:PROGRAMFILES\\Google\\Chrome\\Application\\chrome.exe\").VersionInfo.FileVersion ; if (-not $? -or $? -match $error) { (Get-Item -Path \"$env:PROGRAMFILES(x86)\\Google\\Chrome\\Application\\chrome.exe\").VersionInfo.FileVersion } if (-not $? -or $? -match $error) { (Get-Item -Path \"$env:LOCALAPPDATA\\Google\\Chrome\\Application\\chrome.exe\").VersionInfo.FileVersion } if (-not $? -or $? -match $error) { reg query \"HKCU\\SOFTWARE\\Google\\Chrome\\BLBeacon\" /v version } if (-not $? -or $? -match $error) { reg query \"HKLM\\SOFTWARE\\Wow6432Node\\Microsoft\\Windows\\CurrentVersion\\Uninstall\\Google Chrome\" /v version }\"\n",
      "Current google-chrome version is UNKNOWN\n",
      "Get LATEST chromedriver version for UNKNOWN google-chrome\n",
      "Trying to download new driver from https://chromedriver.storage.googleapis.com/102.0.5005.61/chromedriver_win32.zip\n",
      "Driver has been saved in cache [C:\\Users\\nickc\\.wdm\\drivers\\chromedriver\\win32\\102.0.5005.61]\n"
     ]
    },
    {
     "name": "stdout",
     "output_type": "stream",
     "text": [
      "No cookies found.\n"
     ]
    },
    {
     "ename": "ElementClickInterceptedException",
     "evalue": "Message: element click intercepted: Element <button type=\"button\" class=\"css-q6z3bw e5qh6tw2\">...</button> is not clickable at point (465, 376). Other element would receive the click: <div height=\"924\" class=\"qc-cmp-cleanslate css-1944cv2\">...</div>\n  (Session info: chrome=102.0.5005.63)\n",
     "output_type": "error",
     "traceback": [
      "\u001b[1;31m---------------------------------------------------------------------------\u001b[0m",
      "\u001b[1;31mElementClickInterceptedException\u001b[0m          Traceback (most recent call last)",
      "\u001b[1;32mc:\\Users\\nickc\\Documents\\scratch\\AI-Core\\Data Pipeline Project\\data_pipeline_scraper.ipynb Cell 3'\u001b[0m in \u001b[0;36m<module>\u001b[1;34m\u001b[0m\n\u001b[0;32m      <a href='vscode-notebook-cell:/c%3A/Users/nickc/Documents/scratch/AI-Core/Data%20Pipeline%20Project/data_pipeline_scraper.ipynb#ch0000002?line=5'>6</a>\u001b[0m bot\u001b[39m.\u001b[39mget_latest_page()\n\u001b[0;32m      <a href='vscode-notebook-cell:/c%3A/Users/nickc/Documents/scratch/AI-Core/Data%20Pipeline%20Project/data_pipeline_scraper.ipynb#ch0000002?line=6'>7</a>\u001b[0m bot\u001b[39m.\u001b[39mbypass_cookies()\n\u001b[1;32m----> <a href='vscode-notebook-cell:/c%3A/Users/nickc/Documents/scratch/AI-Core/Data%20Pipeline%20Project/data_pipeline_scraper.ipynb#ch0000002?line=7'>8</a>\u001b[0m bot\u001b[39m.\u001b[39;49mswitch_region_to_global()\n\u001b[0;32m      <a href='vscode-notebook-cell:/c%3A/Users/nickc/Documents/scratch/AI-Core/Data%20Pipeline%20Project/data_pipeline_scraper.ipynb#ch0000002?line=8'>9</a>\u001b[0m bot\u001b[39m.\u001b[39mswitch_rank_to_all()\n\u001b[0;32m     <a href='vscode-notebook-cell:/c%3A/Users/nickc/Documents/scratch/AI-Core/Data%20Pipeline%20Project/data_pipeline_scraper.ipynb#ch0000002?line=9'>10</a>\u001b[0m bot\u001b[39m.\u001b[39mclick_win_rate()\n",
      "File \u001b[1;32mc:\\Users\\nickc\\Documents\\scratch\\AI-Core\\Data Pipeline Project\\scraper.py:80\u001b[0m, in \u001b[0;36mScraper.switch_region_to_global\u001b[1;34m(self)\u001b[0m\n\u001b[0;32m     <a href='file:///c%3A/Users/nickc/Documents/scratch/AI-Core/Data%20Pipeline%20Project/scraper.py?line=77'>78</a>\u001b[0m region_buttton_whole \u001b[39m=\u001b[39m region_button_container\u001b[39m.\u001b[39mfind_element(By\u001b[39m.\u001b[39mXPATH, \u001b[39m'\u001b[39m\u001b[39m./div\u001b[39m\u001b[39m'\u001b[39m)\n\u001b[0;32m     <a href='file:///c%3A/Users/nickc/Documents/scratch/AI-Core/Data%20Pipeline%20Project/scraper.py?line=78'>79</a>\u001b[0m region_buttton_whole1 \u001b[39m=\u001b[39m region_buttton_whole\u001b[39m.\u001b[39mfind_element(By\u001b[39m.\u001b[39mXPATH, \u001b[39m'\u001b[39m\u001b[39m./button\u001b[39m\u001b[39m'\u001b[39m)\n\u001b[1;32m---> <a href='file:///c%3A/Users/nickc/Documents/scratch/AI-Core/Data%20Pipeline%20Project/scraper.py?line=79'>80</a>\u001b[0m region_buttton_whole1\u001b[39m.\u001b[39;49mclick()\n\u001b[0;32m     <a href='file:///c%3A/Users/nickc/Documents/scratch/AI-Core/Data%20Pipeline%20Project/scraper.py?line=80'>81</a>\u001b[0m time\u001b[39m.\u001b[39msleep(\u001b[39m2\u001b[39m)\n\u001b[0;32m     <a href='file:///c%3A/Users/nickc/Documents/scratch/AI-Core/Data%20Pipeline%20Project/scraper.py?line=81'>82</a>\u001b[0m global_button \u001b[39m=\u001b[39m \u001b[39mself\u001b[39m\u001b[39m.\u001b[39mdriver\u001b[39m.\u001b[39mfind_element(By\u001b[39m.\u001b[39mXPATH, \u001b[39m'\u001b[39m\u001b[39m//button[@class=\u001b[39m\u001b[39m\"\u001b[39m\u001b[39mregion_filter css-1mye3k2 e5qh6tw0\u001b[39m\u001b[39m\"\u001b[39m\u001b[39m]\u001b[39m\u001b[39m'\u001b[39m)\n",
      "File \u001b[1;32m~\\miniconda3\\envs\\data_pipeline_scraping\\lib\\site-packages\\selenium\\webdriver\\remote\\webelement.py:80\u001b[0m, in \u001b[0;36mWebElement.click\u001b[1;34m(self)\u001b[0m\n\u001b[0;32m     <a href='file:///c%3A/Users/nickc/miniconda3/envs/data_pipeline_scraping/lib/site-packages/selenium/webdriver/remote/webelement.py?line=77'>78</a>\u001b[0m \u001b[39mdef\u001b[39;00m \u001b[39mclick\u001b[39m(\u001b[39mself\u001b[39m):\n\u001b[0;32m     <a href='file:///c%3A/Users/nickc/miniconda3/envs/data_pipeline_scraping/lib/site-packages/selenium/webdriver/remote/webelement.py?line=78'>79</a>\u001b[0m     \u001b[39m\"\"\"Clicks the element.\"\"\"\u001b[39;00m\n\u001b[1;32m---> <a href='file:///c%3A/Users/nickc/miniconda3/envs/data_pipeline_scraping/lib/site-packages/selenium/webdriver/remote/webelement.py?line=79'>80</a>\u001b[0m     \u001b[39mself\u001b[39;49m\u001b[39m.\u001b[39;49m_execute(Command\u001b[39m.\u001b[39;49mCLICK_ELEMENT)\n",
      "File \u001b[1;32m~\\miniconda3\\envs\\data_pipeline_scraping\\lib\\site-packages\\selenium\\webdriver\\remote\\webelement.py:633\u001b[0m, in \u001b[0;36mWebElement._execute\u001b[1;34m(self, command, params)\u001b[0m\n\u001b[0;32m    <a href='file:///c%3A/Users/nickc/miniconda3/envs/data_pipeline_scraping/lib/site-packages/selenium/webdriver/remote/webelement.py?line=630'>631</a>\u001b[0m     params \u001b[39m=\u001b[39m {}\n\u001b[0;32m    <a href='file:///c%3A/Users/nickc/miniconda3/envs/data_pipeline_scraping/lib/site-packages/selenium/webdriver/remote/webelement.py?line=631'>632</a>\u001b[0m params[\u001b[39m'\u001b[39m\u001b[39mid\u001b[39m\u001b[39m'\u001b[39m] \u001b[39m=\u001b[39m \u001b[39mself\u001b[39m\u001b[39m.\u001b[39m_id\n\u001b[1;32m--> <a href='file:///c%3A/Users/nickc/miniconda3/envs/data_pipeline_scraping/lib/site-packages/selenium/webdriver/remote/webelement.py?line=632'>633</a>\u001b[0m \u001b[39mreturn\u001b[39;00m \u001b[39mself\u001b[39;49m\u001b[39m.\u001b[39;49m_parent\u001b[39m.\u001b[39;49mexecute(command, params)\n",
      "File \u001b[1;32m~\\miniconda3\\envs\\data_pipeline_scraping\\lib\\site-packages\\selenium\\webdriver\\remote\\webdriver.py:321\u001b[0m, in \u001b[0;36mWebDriver.execute\u001b[1;34m(self, driver_command, params)\u001b[0m\n\u001b[0;32m    <a href='file:///c%3A/Users/nickc/miniconda3/envs/data_pipeline_scraping/lib/site-packages/selenium/webdriver/remote/webdriver.py?line=318'>319</a>\u001b[0m response \u001b[39m=\u001b[39m \u001b[39mself\u001b[39m\u001b[39m.\u001b[39mcommand_executor\u001b[39m.\u001b[39mexecute(driver_command, params)\n\u001b[0;32m    <a href='file:///c%3A/Users/nickc/miniconda3/envs/data_pipeline_scraping/lib/site-packages/selenium/webdriver/remote/webdriver.py?line=319'>320</a>\u001b[0m \u001b[39mif\u001b[39;00m response:\n\u001b[1;32m--> <a href='file:///c%3A/Users/nickc/miniconda3/envs/data_pipeline_scraping/lib/site-packages/selenium/webdriver/remote/webdriver.py?line=320'>321</a>\u001b[0m     \u001b[39mself\u001b[39;49m\u001b[39m.\u001b[39;49merror_handler\u001b[39m.\u001b[39;49mcheck_response(response)\n\u001b[0;32m    <a href='file:///c%3A/Users/nickc/miniconda3/envs/data_pipeline_scraping/lib/site-packages/selenium/webdriver/remote/webdriver.py?line=321'>322</a>\u001b[0m     response[\u001b[39m'\u001b[39m\u001b[39mvalue\u001b[39m\u001b[39m'\u001b[39m] \u001b[39m=\u001b[39m \u001b[39mself\u001b[39m\u001b[39m.\u001b[39m_unwrap_value(\n\u001b[0;32m    <a href='file:///c%3A/Users/nickc/miniconda3/envs/data_pipeline_scraping/lib/site-packages/selenium/webdriver/remote/webdriver.py?line=322'>323</a>\u001b[0m         response\u001b[39m.\u001b[39mget(\u001b[39m'\u001b[39m\u001b[39mvalue\u001b[39m\u001b[39m'\u001b[39m, \u001b[39mNone\u001b[39;00m))\n\u001b[0;32m    <a href='file:///c%3A/Users/nickc/miniconda3/envs/data_pipeline_scraping/lib/site-packages/selenium/webdriver/remote/webdriver.py?line=323'>324</a>\u001b[0m     \u001b[39mreturn\u001b[39;00m response\n",
      "File \u001b[1;32m~\\miniconda3\\envs\\data_pipeline_scraping\\lib\\site-packages\\selenium\\webdriver\\remote\\errorhandler.py:242\u001b[0m, in \u001b[0;36mErrorHandler.check_response\u001b[1;34m(self, response)\u001b[0m\n\u001b[0;32m    <a href='file:///c%3A/Users/nickc/miniconda3/envs/data_pipeline_scraping/lib/site-packages/selenium/webdriver/remote/errorhandler.py?line=239'>240</a>\u001b[0m         alert_text \u001b[39m=\u001b[39m value[\u001b[39m'\u001b[39m\u001b[39malert\u001b[39m\u001b[39m'\u001b[39m]\u001b[39m.\u001b[39mget(\u001b[39m'\u001b[39m\u001b[39mtext\u001b[39m\u001b[39m'\u001b[39m)\n\u001b[0;32m    <a href='file:///c%3A/Users/nickc/miniconda3/envs/data_pipeline_scraping/lib/site-packages/selenium/webdriver/remote/errorhandler.py?line=240'>241</a>\u001b[0m     \u001b[39mraise\u001b[39;00m exception_class(message, screen, stacktrace, alert_text)\n\u001b[1;32m--> <a href='file:///c%3A/Users/nickc/miniconda3/envs/data_pipeline_scraping/lib/site-packages/selenium/webdriver/remote/errorhandler.py?line=241'>242</a>\u001b[0m \u001b[39mraise\u001b[39;00m exception_class(message, screen, stacktrace)\n",
      "\u001b[1;31mElementClickInterceptedException\u001b[0m: Message: element click intercepted: Element <button type=\"button\" class=\"css-q6z3bw e5qh6tw2\">...</button> is not clickable at point (465, 376). Other element would receive the click: <div height=\"924\" class=\"qc-cmp-cleanslate css-1944cv2\">...</div>\n  (Session info: chrome=102.0.5005.63)\n"
     ]
    }
   ],
   "source": [
    "from scraper import Scraper\n",
    "\n",
    "bot = Scraper()\n",
    "bot.navigate_to_website()\n",
    "bot.bypass_cookies()\n",
    "bot.get_latest_page()\n",
    "bot.bypass_cookies()\n",
    "bot.switch_region_to_global()\n",
    "bot.switch_rank_to_all()\n",
    "bot.click_win_rate()\n",
    "bot.get_champion_info()\n",
    "bot.create_uuid()\n",
    "bot.create_dataframe()\n",
    "bot.create_json_file()\n",
    "\n",
    "\n",
    "\n",
    "\n",
    "\n",
    "\n",
    "\n",
    "\n"
   ]
  },
  {
   "cell_type": "code",
   "execution_count": 1,
   "metadata": {},
   "outputs": [
    {
     "name": "stderr",
     "output_type": "stream",
     "text": [
      "\n",
      "\n",
      "====== WebDriver manager ======\n",
      "Could not get version for google-chrome with the command:  powershell \"$ErrorActionPreference='silentlycontinue' ; (Get-Item -Path \"$env:PROGRAMFILES\\Google\\Chrome\\Application\\chrome.exe\").VersionInfo.FileVersion ; if (-not $? -or $? -match $error) { (Get-Item -Path \"$env:PROGRAMFILES(x86)\\Google\\Chrome\\Application\\chrome.exe\").VersionInfo.FileVersion } if (-not $? -or $? -match $error) { (Get-Item -Path \"$env:LOCALAPPDATA\\Google\\Chrome\\Application\\chrome.exe\").VersionInfo.FileVersion } if (-not $? -or $? -match $error) { reg query \"HKCU\\SOFTWARE\\Google\\Chrome\\BLBeacon\" /v version } if (-not $? -or $? -match $error) { reg query \"HKLM\\SOFTWARE\\Wow6432Node\\Microsoft\\Windows\\CurrentVersion\\Uninstall\\Google Chrome\" /v version }\"\n",
      "Current google-chrome version is UNKNOWN\n",
      "Get LATEST chromedriver version for UNKNOWN google-chrome\n",
      "Trying to download new driver from https://chromedriver.storage.googleapis.com/101.0.4951.41/chromedriver_win32.zip\n",
      "Driver has been saved in cache [C:\\Users\\nickc\\.wdm\\drivers\\chromedriver\\win32\\101.0.4951.41]\n"
     ]
    },
    {
     "name": "stdout",
     "output_type": "stream",
     "text": [
      "[<selenium.webdriver.remote.webelement.WebElement (session=\"b3727ed913670099d6e10528b30bfc46\", element=\"00ce4e47-be70-48dc-9ffd-6c745bbd5aa6\")>, <selenium.webdriver.remote.webelement.WebElement (session=\"b3727ed913670099d6e10528b30bfc46\", element=\"3b998cc5-d170-4c84-8cef-7044d9cecaac\")>]\n"
     ]
    }
   ],
   "source": [
    "from scraper import Scraper\n",
    "\n",
    "bot = Scraper()\n",
    "bot.get_champion_page(\"Garen\")"
   ]
  },
  {
   "cell_type": "code",
   "execution_count": 7,
   "metadata": {},
   "outputs": [
    {
     "ename": "AttributeError",
     "evalue": "type object 'Scraper' has no attribute 'display_dict'",
     "output_type": "error",
     "traceback": [
      "\u001b[1;31m---------------------------------------------------------------------------\u001b[0m",
      "\u001b[1;31mAttributeError\u001b[0m                            Traceback (most recent call last)",
      "\u001b[1;32mc:\\Users\\nickc\\Documents\\scratch\\AI-Core\\Data Pipeline Project\\data_pipeline_scraper.ipynb Cell 5'\u001b[0m in \u001b[0;36m<module>\u001b[1;34m\u001b[0m\n\u001b[0;32m      <a href='vscode-notebook-cell:/c%3A/Users/nickc/Documents/scratch/AI-Core/Data%20Pipeline%20Project/data_pipeline_scraper.ipynb#ch0000003?line=0'>1</a>\u001b[0m \u001b[39mimport\u001b[39;00m \u001b[39mpandas\u001b[39;00m \u001b[39mas\u001b[39;00m \u001b[39mpd\u001b[39;00m \n\u001b[1;32m----> <a href='vscode-notebook-cell:/c%3A/Users/nickc/Documents/scratch/AI-Core/Data%20Pipeline%20Project/data_pipeline_scraper.ipynb#ch0000003?line=4'>5</a>\u001b[0m pd\u001b[39m.\u001b[39mDataFrame(Scraper\u001b[39m.\u001b[39;49mdisplay_dict)\n",
      "\u001b[1;31mAttributeError\u001b[0m: type object 'Scraper' has no attribute 'display_dict'"
     ]
    }
   ],
   "source": [
    "import pandas as pd \n",
    "\n",
    "\n",
    "\n",
    "pd.DataFrame(Scraper.display_dict)"
   ]
  },
  {
   "cell_type": "code",
   "execution_count": null,
   "metadata": {},
   "outputs": [],
   "source": []
  },
  {
   "cell_type": "code",
   "execution_count": 3,
   "metadata": {},
   "outputs": [
    {
     "ename": "NoSuchElementException",
     "evalue": "Message: no such element: Unable to locate element: {\"method\":\"xpath\",\"selector\":\"//div[@style=\"width: 100%; margin-top: 20px;\"]\"}\n  (Session info: headless chrome=100.0.4896.127)\n",
     "output_type": "error",
     "traceback": [
      "\u001b[1;31m---------------------------------------------------------------------------\u001b[0m",
      "\u001b[1;31mNoSuchElementException\u001b[0m                    Traceback (most recent call last)",
      "\u001b[1;32mc:\\Users\\nickc\\Documents\\scratch\\AI-Core\\Data Pipeline Project\\data_pipeline_scraper.ipynb Cell 5'\u001b[0m in \u001b[0;36m<module>\u001b[1;34m\u001b[0m\n\u001b[1;32m----> <a href='vscode-notebook-cell:/c%3A/Users/nickc/Documents/scratch/AI-Core/Data%20Pipeline%20Project/data_pipeline_scraper.ipynb#ch0000004?line=0'>1</a>\u001b[0m bot\u001b[39m.\u001b[39;49mget_display_year()\n",
      "File \u001b[1;32mc:\\Users\\nickc\\Documents\\scratch\\AI-Core\\Data Pipeline Project\\scraper.py:169\u001b[0m, in \u001b[0;36mScraper.get_display_year\u001b[1;34m(self)\u001b[0m\n\u001b[0;32m    <a href='file:///c%3A/Users/nickc/Documents/scratch/AI-Core/Data%20Pipeline%20Project/scraper.py?line=166'>167</a>\u001b[0m     check \u001b[39m+\u001b[39m\u001b[39m=\u001b[39m \u001b[39m1\u001b[39m\n\u001b[0;32m    <a href='file:///c%3A/Users/nickc/Documents/scratch/AI-Core/Data%20Pipeline%20Project/scraper.py?line=167'>168</a>\u001b[0m     \u001b[39mself\u001b[39m\u001b[39m.\u001b[39mdriver\u001b[39m.\u001b[39mget(i)\n\u001b[1;32m--> <a href='file:///c%3A/Users/nickc/Documents/scratch/AI-Core/Data%20Pipeline%20Project/scraper.py?line=168'>169</a>\u001b[0m     year \u001b[39m=\u001b[39m \u001b[39mint\u001b[39m(\u001b[39mself\u001b[39;49m\u001b[39m.\u001b[39;49mget_model_year())\n\u001b[0;32m    <a href='file:///c%3A/Users/nickc/Documents/scratch/AI-Core/Data%20Pipeline%20Project/scraper.py?line=169'>170</a>\u001b[0m     \u001b[39mself\u001b[39m\u001b[39m.\u001b[39mdisplay_dict[\u001b[39m'\u001b[39m\u001b[39mYear\u001b[39m\u001b[39m'\u001b[39m]\u001b[39m.\u001b[39mappend(year)\n\u001b[0;32m    <a href='file:///c%3A/Users/nickc/Documents/scratch/AI-Core/Data%20Pipeline%20Project/scraper.py?line=170'>171</a>\u001b[0m \u001b[39mprint\u001b[39m(\u001b[39mself\u001b[39m\u001b[39m.\u001b[39mdisplay_dict[\u001b[39m'\u001b[39m\u001b[39mYear\u001b[39m\u001b[39m'\u001b[39m])\n",
      "File \u001b[1;32mc:\\Users\\nickc\\Documents\\scratch\\AI-Core\\Data Pipeline Project\\scraper.py:98\u001b[0m, in \u001b[0;36mScraper.get_model_year\u001b[1;34m(self)\u001b[0m\n\u001b[0;32m     <a href='file:///c%3A/Users/nickc/Documents/scratch/AI-Core/Data%20Pipeline%20Project/scraper.py?line=96'>97</a>\u001b[0m \u001b[39mdef\u001b[39;00m \u001b[39mget_model_year\u001b[39m(\u001b[39mself\u001b[39m):\n\u001b[1;32m---> <a href='file:///c%3A/Users/nickc/Documents/scratch/AI-Core/Data%20Pipeline%20Project/scraper.py?line=97'>98</a>\u001b[0m     tables_container \u001b[39m=\u001b[39m \u001b[39mself\u001b[39;49m\u001b[39m.\u001b[39;49mdriver\u001b[39m.\u001b[39;49mfind_element(By\u001b[39m.\u001b[39;49mXPATH, \u001b[39m'\u001b[39;49m\u001b[39m//div[@style=\u001b[39;49m\u001b[39m\"\u001b[39;49m\u001b[39mwidth: 100\u001b[39;49m\u001b[39m%\u001b[39;49m\u001b[39m; margin-top: 20px;\u001b[39;49m\u001b[39m\"\u001b[39;49m\u001b[39m]\u001b[39;49m\u001b[39m'\u001b[39;49m)\n\u001b[0;32m     <a href='file:///c%3A/Users/nickc/Documents/scratch/AI-Core/Data%20Pipeline%20Project/scraper.py?line=98'>99</a>\u001b[0m     all_tables \u001b[39m=\u001b[39m tables_container\u001b[39m.\u001b[39mfind_elements(By\u001b[39m.\u001b[39mXPATH, \u001b[39m'\u001b[39m\u001b[39m./table\u001b[39m\u001b[39m'\u001b[39m)\n\u001b[0;32m    <a href='file:///c%3A/Users/nickc/Documents/scratch/AI-Core/Data%20Pipeline%20Project/scraper.py?line=99'>100</a>\u001b[0m     model_year_table \u001b[39m=\u001b[39m all_tables[\u001b[39m0\u001b[39m]\u001b[39m.\u001b[39mfind_element(By\u001b[39m.\u001b[39mXPATH, \u001b[39m'\u001b[39m\u001b[39m./tbody\u001b[39m\u001b[39m'\u001b[39m)\n",
      "File \u001b[1;32m~\\miniconda3\\envs\\data_pipeline_scraping\\lib\\site-packages\\selenium\\webdriver\\remote\\webdriver.py:976\u001b[0m, in \u001b[0;36mWebDriver.find_element\u001b[1;34m(self, by, value)\u001b[0m\n\u001b[0;32m    <a href='file:///c%3A/Users/nickc/miniconda3/envs/data_pipeline_scraping/lib/site-packages/selenium/webdriver/remote/webdriver.py?line=973'>974</a>\u001b[0m         by \u001b[39m=\u001b[39m By\u001b[39m.\u001b[39mCSS_SELECTOR\n\u001b[0;32m    <a href='file:///c%3A/Users/nickc/miniconda3/envs/data_pipeline_scraping/lib/site-packages/selenium/webdriver/remote/webdriver.py?line=974'>975</a>\u001b[0m         value \u001b[39m=\u001b[39m \u001b[39m'\u001b[39m\u001b[39m[name=\u001b[39m\u001b[39m\"\u001b[39m\u001b[39m%s\u001b[39;00m\u001b[39m\"\u001b[39m\u001b[39m]\u001b[39m\u001b[39m'\u001b[39m \u001b[39m%\u001b[39m value\n\u001b[1;32m--> <a href='file:///c%3A/Users/nickc/miniconda3/envs/data_pipeline_scraping/lib/site-packages/selenium/webdriver/remote/webdriver.py?line=975'>976</a>\u001b[0m \u001b[39mreturn\u001b[39;00m \u001b[39mself\u001b[39;49m\u001b[39m.\u001b[39;49mexecute(Command\u001b[39m.\u001b[39;49mFIND_ELEMENT, {\n\u001b[0;32m    <a href='file:///c%3A/Users/nickc/miniconda3/envs/data_pipeline_scraping/lib/site-packages/selenium/webdriver/remote/webdriver.py?line=976'>977</a>\u001b[0m     \u001b[39m'\u001b[39;49m\u001b[39musing\u001b[39;49m\u001b[39m'\u001b[39;49m: by,\n\u001b[0;32m    <a href='file:///c%3A/Users/nickc/miniconda3/envs/data_pipeline_scraping/lib/site-packages/selenium/webdriver/remote/webdriver.py?line=977'>978</a>\u001b[0m     \u001b[39m'\u001b[39;49m\u001b[39mvalue\u001b[39;49m\u001b[39m'\u001b[39;49m: value})[\u001b[39m'\u001b[39m\u001b[39mvalue\u001b[39m\u001b[39m'\u001b[39m]\n",
      "File \u001b[1;32m~\\miniconda3\\envs\\data_pipeline_scraping\\lib\\site-packages\\selenium\\webdriver\\remote\\webdriver.py:321\u001b[0m, in \u001b[0;36mWebDriver.execute\u001b[1;34m(self, driver_command, params)\u001b[0m\n\u001b[0;32m    <a href='file:///c%3A/Users/nickc/miniconda3/envs/data_pipeline_scraping/lib/site-packages/selenium/webdriver/remote/webdriver.py?line=318'>319</a>\u001b[0m response \u001b[39m=\u001b[39m \u001b[39mself\u001b[39m\u001b[39m.\u001b[39mcommand_executor\u001b[39m.\u001b[39mexecute(driver_command, params)\n\u001b[0;32m    <a href='file:///c%3A/Users/nickc/miniconda3/envs/data_pipeline_scraping/lib/site-packages/selenium/webdriver/remote/webdriver.py?line=319'>320</a>\u001b[0m \u001b[39mif\u001b[39;00m response:\n\u001b[1;32m--> <a href='file:///c%3A/Users/nickc/miniconda3/envs/data_pipeline_scraping/lib/site-packages/selenium/webdriver/remote/webdriver.py?line=320'>321</a>\u001b[0m     \u001b[39mself\u001b[39;49m\u001b[39m.\u001b[39;49merror_handler\u001b[39m.\u001b[39;49mcheck_response(response)\n\u001b[0;32m    <a href='file:///c%3A/Users/nickc/miniconda3/envs/data_pipeline_scraping/lib/site-packages/selenium/webdriver/remote/webdriver.py?line=321'>322</a>\u001b[0m     response[\u001b[39m'\u001b[39m\u001b[39mvalue\u001b[39m\u001b[39m'\u001b[39m] \u001b[39m=\u001b[39m \u001b[39mself\u001b[39m\u001b[39m.\u001b[39m_unwrap_value(\n\u001b[0;32m    <a href='file:///c%3A/Users/nickc/miniconda3/envs/data_pipeline_scraping/lib/site-packages/selenium/webdriver/remote/webdriver.py?line=322'>323</a>\u001b[0m         response\u001b[39m.\u001b[39mget(\u001b[39m'\u001b[39m\u001b[39mvalue\u001b[39m\u001b[39m'\u001b[39m, \u001b[39mNone\u001b[39;00m))\n\u001b[0;32m    <a href='file:///c%3A/Users/nickc/miniconda3/envs/data_pipeline_scraping/lib/site-packages/selenium/webdriver/remote/webdriver.py?line=323'>324</a>\u001b[0m     \u001b[39mreturn\u001b[39;00m response\n",
      "File \u001b[1;32m~\\miniconda3\\envs\\data_pipeline_scraping\\lib\\site-packages\\selenium\\webdriver\\remote\\errorhandler.py:242\u001b[0m, in \u001b[0;36mErrorHandler.check_response\u001b[1;34m(self, response)\u001b[0m\n\u001b[0;32m    <a href='file:///c%3A/Users/nickc/miniconda3/envs/data_pipeline_scraping/lib/site-packages/selenium/webdriver/remote/errorhandler.py?line=239'>240</a>\u001b[0m         alert_text \u001b[39m=\u001b[39m value[\u001b[39m'\u001b[39m\u001b[39malert\u001b[39m\u001b[39m'\u001b[39m]\u001b[39m.\u001b[39mget(\u001b[39m'\u001b[39m\u001b[39mtext\u001b[39m\u001b[39m'\u001b[39m)\n\u001b[0;32m    <a href='file:///c%3A/Users/nickc/miniconda3/envs/data_pipeline_scraping/lib/site-packages/selenium/webdriver/remote/errorhandler.py?line=240'>241</a>\u001b[0m     \u001b[39mraise\u001b[39;00m exception_class(message, screen, stacktrace, alert_text)\n\u001b[1;32m--> <a href='file:///c%3A/Users/nickc/miniconda3/envs/data_pipeline_scraping/lib/site-packages/selenium/webdriver/remote/errorhandler.py?line=241'>242</a>\u001b[0m \u001b[39mraise\u001b[39;00m exception_class(message, screen, stacktrace)\n",
      "\u001b[1;31mNoSuchElementException\u001b[0m: Message: no such element: Unable to locate element: {\"method\":\"xpath\",\"selector\":\"//div[@style=\"width: 100%; margin-top: 20px;\"]\"}\n  (Session info: headless chrome=100.0.4896.127)\n"
     ]
    }
   ],
   "source": [
    "bot.get_display_year()"
   ]
  },
  {
   "cell_type": "code",
   "execution_count": 14,
   "metadata": {},
   "outputs": [
    {
     "name": "stderr",
     "output_type": "stream",
     "text": [
      "\n",
      "\n",
      "====== WebDriver manager ======\n",
      "Could not get version for google-chrome with the command:  powershell \"$ErrorActionPreference='silentlycontinue' ; (Get-Item -Path \"$env:PROGRAMFILES\\Google\\Chrome\\Application\\chrome.exe\").VersionInfo.FileVersion ; if (-not $? -or $? -match $error) { (Get-Item -Path \"$env:PROGRAMFILES(x86)\\Google\\Chrome\\Application\\chrome.exe\").VersionInfo.FileVersion } if (-not $? -or $? -match $error) { (Get-Item -Path \"$env:LOCALAPPDATA\\Google\\Chrome\\Application\\chrome.exe\").VersionInfo.FileVersion } if (-not $? -or $? -match $error) { reg query \"HKCU\\SOFTWARE\\Google\\Chrome\\BLBeacon\" /v version } if (-not $? -or $? -match $error) { reg query \"HKLM\\SOFTWARE\\Wow6432Node\\Microsoft\\Windows\\CurrentVersion\\Uninstall\\Google Chrome\" /v version }\"\n",
      "Current google-chrome version is UNKNOWN\n",
      "Get LATEST chromedriver version for UNKNOWN google-chrome\n",
      "Trying to download new driver from https://chromedriver.storage.googleapis.com/99.0.4844.51/chromedriver_win32.zip\n",
      "Driver has been saved in cache [C:\\Users\\nickc\\.wdm\\drivers\\chromedriver\\win32\\99.0.4844.51]\n",
      "C:\\Users\\nickc\\AppData\\Local\\Temp\\ipykernel_41500\\3759026856.py:1: DeprecationWarning: executable_path has been deprecated, please pass in a Service object\n",
      "  driver = Chrome(ChromeDriverManager().install())\n"
     ]
    },
    {
     "ename": "SessionNotCreatedException",
     "evalue": "Message: session not created: This version of ChromeDriver only supports Chrome version 99\nCurrent browser version is 98.0.4758.102 with binary path C:\\Program Files (x86)\\Google\\Chrome\\Application\\chrome.exe\nStacktrace:\nBacktrace:\n\tOrdinal0 [0x00BD9943+2595139]\n\tOrdinal0 [0x00B6C9F1+2148849]\n\tOrdinal0 [0x00A64528+1066280]\n\tOrdinal0 [0x00A842C3+1196739]\n\tOrdinal0 [0x00A7FE37+1179191]\n\tOrdinal0 [0x00A7D6F1+1169137]\n\tOrdinal0 [0x00AB0530+1377584]\n\tOrdinal0 [0x00AB018A+1376650]\n\tOrdinal0 [0x00AAB806+1357830]\n\tOrdinal0 [0x00A86086+1204358]\n\tOrdinal0 [0x00A86F96+1208214]\n\tGetHandleVerifier [0x00D7B232+1658114]\n\tGetHandleVerifier [0x00E3312C+2411516]\n\tGetHandleVerifier [0x00C6F261+560433]\n\tGetHandleVerifier [0x00C6E366+556598]\n\tOrdinal0 [0x00B7286B+2173035]\n\tOrdinal0 [0x00B775F8+2192888]\n\tOrdinal0 [0x00B776E5+2193125]\n\tOrdinal0 [0x00B811FC+2232828]\n\tBaseThreadInitThunk [0x7728FA29+25]\n\tRtlGetAppContainerNamedObjectPath [0x77437A9E+286]\n\tRtlGetAppContainerNamedObjectPath [0x77437A6E+238]\n",
     "output_type": "error",
     "traceback": [
      "\u001b[1;31m---------------------------------------------------------------------------\u001b[0m",
      "\u001b[1;31mSessionNotCreatedException\u001b[0m                Traceback (most recent call last)",
      "\u001b[1;32mc:\\Users\\nickc\\Documents\\scratch\\AI-Core\\Data Pipeline Project\\data_pipeline_scraper.ipynb Cell 4'\u001b[0m in \u001b[0;36m<module>\u001b[1;34m\u001b[0m\n\u001b[1;32m----> <a href='vscode-notebook-cell:/c%3A/Users/nickc/Documents/scratch/AI-Core/Data%20Pipeline%20Project/data_pipeline_scraper.ipynb#ch0000002?line=0'>1</a>\u001b[0m driver \u001b[39m=\u001b[39m Chrome(ChromeDriverManager()\u001b[39m.\u001b[39;49minstall())\n",
      "File \u001b[1;32m~\\miniconda3\\envs\\data_pipeline_scraping\\lib\\site-packages\\selenium\\webdriver\\chrome\\webdriver.py:70\u001b[0m, in \u001b[0;36mWebDriver.__init__\u001b[1;34m(self, executable_path, port, options, service_args, desired_capabilities, service_log_path, chrome_options, service, keep_alive)\u001b[0m\n\u001b[0;32m     <a href='file:///~/miniconda3/envs/data_pipeline_scraping/lib/site-packages/selenium/webdriver/chrome/webdriver.py?line=66'>67</a>\u001b[0m \u001b[39mif\u001b[39;00m \u001b[39mnot\u001b[39;00m service:\n\u001b[0;32m     <a href='file:///~/miniconda3/envs/data_pipeline_scraping/lib/site-packages/selenium/webdriver/chrome/webdriver.py?line=67'>68</a>\u001b[0m     service \u001b[39m=\u001b[39m Service(executable_path, port, service_args, service_log_path)\n\u001b[1;32m---> <a href='file:///~/miniconda3/envs/data_pipeline_scraping/lib/site-packages/selenium/webdriver/chrome/webdriver.py?line=69'>70</a>\u001b[0m \u001b[39msuper\u001b[39;49m(WebDriver, \u001b[39mself\u001b[39;49m)\u001b[39m.\u001b[39;49m\u001b[39m__init__\u001b[39;49m(DesiredCapabilities\u001b[39m.\u001b[39;49mCHROME[\u001b[39m'\u001b[39;49m\u001b[39mbrowserName\u001b[39;49m\u001b[39m'\u001b[39;49m], \u001b[39m\"\u001b[39;49m\u001b[39mgoog\u001b[39;49m\u001b[39m\"\u001b[39;49m,\n\u001b[0;32m     <a href='file:///~/miniconda3/envs/data_pipeline_scraping/lib/site-packages/selenium/webdriver/chrome/webdriver.py?line=70'>71</a>\u001b[0m                                 port, options,\n\u001b[0;32m     <a href='file:///~/miniconda3/envs/data_pipeline_scraping/lib/site-packages/selenium/webdriver/chrome/webdriver.py?line=71'>72</a>\u001b[0m                                 service_args, desired_capabilities,\n\u001b[0;32m     <a href='file:///~/miniconda3/envs/data_pipeline_scraping/lib/site-packages/selenium/webdriver/chrome/webdriver.py?line=72'>73</a>\u001b[0m                                 service_log_path, service, keep_alive)\n",
      "File \u001b[1;32m~\\miniconda3\\envs\\data_pipeline_scraping\\lib\\site-packages\\selenium\\webdriver\\chromium\\webdriver.py:93\u001b[0m, in \u001b[0;36mChromiumDriver.__init__\u001b[1;34m(self, browser_name, vendor_prefix, port, options, service_args, desired_capabilities, service_log_path, service, keep_alive)\u001b[0m\n\u001b[0;32m     <a href='file:///~/miniconda3/envs/data_pipeline_scraping/lib/site-packages/selenium/webdriver/chromium/webdriver.py?line=89'>90</a>\u001b[0m \u001b[39mself\u001b[39m\u001b[39m.\u001b[39mservice\u001b[39m.\u001b[39mstart()\n\u001b[0;32m     <a href='file:///~/miniconda3/envs/data_pipeline_scraping/lib/site-packages/selenium/webdriver/chromium/webdriver.py?line=91'>92</a>\u001b[0m \u001b[39mtry\u001b[39;00m:\n\u001b[1;32m---> <a href='file:///~/miniconda3/envs/data_pipeline_scraping/lib/site-packages/selenium/webdriver/chromium/webdriver.py?line=92'>93</a>\u001b[0m     RemoteWebDriver\u001b[39m.\u001b[39;49m\u001b[39m__init__\u001b[39;49m(\n\u001b[0;32m     <a href='file:///~/miniconda3/envs/data_pipeline_scraping/lib/site-packages/selenium/webdriver/chromium/webdriver.py?line=93'>94</a>\u001b[0m         \u001b[39mself\u001b[39;49m,\n\u001b[0;32m     <a href='file:///~/miniconda3/envs/data_pipeline_scraping/lib/site-packages/selenium/webdriver/chromium/webdriver.py?line=94'>95</a>\u001b[0m         command_executor\u001b[39m=\u001b[39;49mChromiumRemoteConnection(\n\u001b[0;32m     <a href='file:///~/miniconda3/envs/data_pipeline_scraping/lib/site-packages/selenium/webdriver/chromium/webdriver.py?line=95'>96</a>\u001b[0m             remote_server_addr\u001b[39m=\u001b[39;49m\u001b[39mself\u001b[39;49m\u001b[39m.\u001b[39;49mservice\u001b[39m.\u001b[39;49mservice_url,\n\u001b[0;32m     <a href='file:///~/miniconda3/envs/data_pipeline_scraping/lib/site-packages/selenium/webdriver/chromium/webdriver.py?line=96'>97</a>\u001b[0m             browser_name\u001b[39m=\u001b[39;49mbrowser_name, vendor_prefix\u001b[39m=\u001b[39;49mvendor_prefix,\n\u001b[0;32m     <a href='file:///~/miniconda3/envs/data_pipeline_scraping/lib/site-packages/selenium/webdriver/chromium/webdriver.py?line=97'>98</a>\u001b[0m             keep_alive\u001b[39m=\u001b[39;49mkeep_alive, ignore_proxy\u001b[39m=\u001b[39;49m_ignore_proxy),\n\u001b[0;32m     <a href='file:///~/miniconda3/envs/data_pipeline_scraping/lib/site-packages/selenium/webdriver/chromium/webdriver.py?line=98'>99</a>\u001b[0m         options\u001b[39m=\u001b[39;49moptions)\n\u001b[0;32m    <a href='file:///~/miniconda3/envs/data_pipeline_scraping/lib/site-packages/selenium/webdriver/chromium/webdriver.py?line=99'>100</a>\u001b[0m \u001b[39mexcept\u001b[39;00m \u001b[39mException\u001b[39;00m:\n\u001b[0;32m    <a href='file:///~/miniconda3/envs/data_pipeline_scraping/lib/site-packages/selenium/webdriver/chromium/webdriver.py?line=100'>101</a>\u001b[0m     \u001b[39mself\u001b[39m\u001b[39m.\u001b[39mquit()\n",
      "File \u001b[1;32m~\\miniconda3\\envs\\data_pipeline_scraping\\lib\\site-packages\\selenium\\webdriver\\remote\\webdriver.py:268\u001b[0m, in \u001b[0;36mWebDriver.__init__\u001b[1;34m(self, command_executor, desired_capabilities, browser_profile, proxy, keep_alive, file_detector, options)\u001b[0m\n\u001b[0;32m    <a href='file:///~/miniconda3/envs/data_pipeline_scraping/lib/site-packages/selenium/webdriver/remote/webdriver.py?line=265'>266</a>\u001b[0m \u001b[39mself\u001b[39m\u001b[39m.\u001b[39mfile_detector \u001b[39m=\u001b[39m file_detector \u001b[39mor\u001b[39;00m LocalFileDetector()\n\u001b[0;32m    <a href='file:///~/miniconda3/envs/data_pipeline_scraping/lib/site-packages/selenium/webdriver/remote/webdriver.py?line=266'>267</a>\u001b[0m \u001b[39mself\u001b[39m\u001b[39m.\u001b[39mstart_client()\n\u001b[1;32m--> <a href='file:///~/miniconda3/envs/data_pipeline_scraping/lib/site-packages/selenium/webdriver/remote/webdriver.py?line=267'>268</a>\u001b[0m \u001b[39mself\u001b[39;49m\u001b[39m.\u001b[39;49mstart_session(capabilities, browser_profile)\n",
      "File \u001b[1;32m~\\miniconda3\\envs\\data_pipeline_scraping\\lib\\site-packages\\selenium\\webdriver\\remote\\webdriver.py:359\u001b[0m, in \u001b[0;36mWebDriver.start_session\u001b[1;34m(self, capabilities, browser_profile)\u001b[0m\n\u001b[0;32m    <a href='file:///~/miniconda3/envs/data_pipeline_scraping/lib/site-packages/selenium/webdriver/remote/webdriver.py?line=355'>356</a>\u001b[0m w3c_caps \u001b[39m=\u001b[39m _make_w3c_caps(capabilities)\n\u001b[0;32m    <a href='file:///~/miniconda3/envs/data_pipeline_scraping/lib/site-packages/selenium/webdriver/remote/webdriver.py?line=356'>357</a>\u001b[0m parameters \u001b[39m=\u001b[39m {\u001b[39m\"\u001b[39m\u001b[39mcapabilities\u001b[39m\u001b[39m\"\u001b[39m: w3c_caps,\n\u001b[0;32m    <a href='file:///~/miniconda3/envs/data_pipeline_scraping/lib/site-packages/selenium/webdriver/remote/webdriver.py?line=357'>358</a>\u001b[0m               \u001b[39m\"\u001b[39m\u001b[39mdesiredCapabilities\u001b[39m\u001b[39m\"\u001b[39m: capabilities}\n\u001b[1;32m--> <a href='file:///~/miniconda3/envs/data_pipeline_scraping/lib/site-packages/selenium/webdriver/remote/webdriver.py?line=358'>359</a>\u001b[0m response \u001b[39m=\u001b[39m \u001b[39mself\u001b[39;49m\u001b[39m.\u001b[39;49mexecute(Command\u001b[39m.\u001b[39;49mNEW_SESSION, parameters)\n\u001b[0;32m    <a href='file:///~/miniconda3/envs/data_pipeline_scraping/lib/site-packages/selenium/webdriver/remote/webdriver.py?line=359'>360</a>\u001b[0m \u001b[39mif\u001b[39;00m \u001b[39m'\u001b[39m\u001b[39msessionId\u001b[39m\u001b[39m'\u001b[39m \u001b[39mnot\u001b[39;00m \u001b[39min\u001b[39;00m response:\n\u001b[0;32m    <a href='file:///~/miniconda3/envs/data_pipeline_scraping/lib/site-packages/selenium/webdriver/remote/webdriver.py?line=360'>361</a>\u001b[0m     response \u001b[39m=\u001b[39m response[\u001b[39m'\u001b[39m\u001b[39mvalue\u001b[39m\u001b[39m'\u001b[39m]\n",
      "File \u001b[1;32m~\\miniconda3\\envs\\data_pipeline_scraping\\lib\\site-packages\\selenium\\webdriver\\remote\\webdriver.py:424\u001b[0m, in \u001b[0;36mWebDriver.execute\u001b[1;34m(self, driver_command, params)\u001b[0m\n\u001b[0;32m    <a href='file:///~/miniconda3/envs/data_pipeline_scraping/lib/site-packages/selenium/webdriver/remote/webdriver.py?line=421'>422</a>\u001b[0m response \u001b[39m=\u001b[39m \u001b[39mself\u001b[39m\u001b[39m.\u001b[39mcommand_executor\u001b[39m.\u001b[39mexecute(driver_command, params)\n\u001b[0;32m    <a href='file:///~/miniconda3/envs/data_pipeline_scraping/lib/site-packages/selenium/webdriver/remote/webdriver.py?line=422'>423</a>\u001b[0m \u001b[39mif\u001b[39;00m response:\n\u001b[1;32m--> <a href='file:///~/miniconda3/envs/data_pipeline_scraping/lib/site-packages/selenium/webdriver/remote/webdriver.py?line=423'>424</a>\u001b[0m     \u001b[39mself\u001b[39;49m\u001b[39m.\u001b[39;49merror_handler\u001b[39m.\u001b[39;49mcheck_response(response)\n\u001b[0;32m    <a href='file:///~/miniconda3/envs/data_pipeline_scraping/lib/site-packages/selenium/webdriver/remote/webdriver.py?line=424'>425</a>\u001b[0m     response[\u001b[39m'\u001b[39m\u001b[39mvalue\u001b[39m\u001b[39m'\u001b[39m] \u001b[39m=\u001b[39m \u001b[39mself\u001b[39m\u001b[39m.\u001b[39m_unwrap_value(\n\u001b[0;32m    <a href='file:///~/miniconda3/envs/data_pipeline_scraping/lib/site-packages/selenium/webdriver/remote/webdriver.py?line=425'>426</a>\u001b[0m         response\u001b[39m.\u001b[39mget(\u001b[39m'\u001b[39m\u001b[39mvalue\u001b[39m\u001b[39m'\u001b[39m, \u001b[39mNone\u001b[39;00m))\n\u001b[0;32m    <a href='file:///~/miniconda3/envs/data_pipeline_scraping/lib/site-packages/selenium/webdriver/remote/webdriver.py?line=426'>427</a>\u001b[0m     \u001b[39mreturn\u001b[39;00m response\n",
      "File \u001b[1;32m~\\miniconda3\\envs\\data_pipeline_scraping\\lib\\site-packages\\selenium\\webdriver\\remote\\errorhandler.py:247\u001b[0m, in \u001b[0;36mErrorHandler.check_response\u001b[1;34m(self, response)\u001b[0m\n\u001b[0;32m    <a href='file:///~/miniconda3/envs/data_pipeline_scraping/lib/site-packages/selenium/webdriver/remote/errorhandler.py?line=244'>245</a>\u001b[0m         alert_text \u001b[39m=\u001b[39m value[\u001b[39m'\u001b[39m\u001b[39malert\u001b[39m\u001b[39m'\u001b[39m]\u001b[39m.\u001b[39mget(\u001b[39m'\u001b[39m\u001b[39mtext\u001b[39m\u001b[39m'\u001b[39m)\n\u001b[0;32m    <a href='file:///~/miniconda3/envs/data_pipeline_scraping/lib/site-packages/selenium/webdriver/remote/errorhandler.py?line=245'>246</a>\u001b[0m     \u001b[39mraise\u001b[39;00m exception_class(message, screen, stacktrace, alert_text)  \u001b[39m# type: ignore[call-arg]  # mypy is not smart enough here\u001b[39;00m\n\u001b[1;32m--> <a href='file:///~/miniconda3/envs/data_pipeline_scraping/lib/site-packages/selenium/webdriver/remote/errorhandler.py?line=246'>247</a>\u001b[0m \u001b[39mraise\u001b[39;00m exception_class(message, screen, stacktrace)\n",
      "\u001b[1;31mSessionNotCreatedException\u001b[0m: Message: session not created: This version of ChromeDriver only supports Chrome version 99\nCurrent browser version is 98.0.4758.102 with binary path C:\\Program Files (x86)\\Google\\Chrome\\Application\\chrome.exe\nStacktrace:\nBacktrace:\n\tOrdinal0 [0x00BD9943+2595139]\n\tOrdinal0 [0x00B6C9F1+2148849]\n\tOrdinal0 [0x00A64528+1066280]\n\tOrdinal0 [0x00A842C3+1196739]\n\tOrdinal0 [0x00A7FE37+1179191]\n\tOrdinal0 [0x00A7D6F1+1169137]\n\tOrdinal0 [0x00AB0530+1377584]\n\tOrdinal0 [0x00AB018A+1376650]\n\tOrdinal0 [0x00AAB806+1357830]\n\tOrdinal0 [0x00A86086+1204358]\n\tOrdinal0 [0x00A86F96+1208214]\n\tGetHandleVerifier [0x00D7B232+1658114]\n\tGetHandleVerifier [0x00E3312C+2411516]\n\tGetHandleVerifier [0x00C6F261+560433]\n\tGetHandleVerifier [0x00C6E366+556598]\n\tOrdinal0 [0x00B7286B+2173035]\n\tOrdinal0 [0x00B775F8+2192888]\n\tOrdinal0 [0x00B776E5+2193125]\n\tOrdinal0 [0x00B811FC+2232828]\n\tBaseThreadInitThunk [0x7728FA29+25]\n\tRtlGetAppContainerNamedObjectPath [0x77437A9E+286]\n\tRtlGetAppContainerNamedObjectPath [0x77437A6E+238]\n"
     ]
    }
   ],
   "source": [
    "driver = Chrome(ChromeDriverManager().install())\n"
   ]
  }
 ],
 "metadata": {
  "interpreter": {
   "hash": "97ecbfee18d0d647695e2887864d1e84840b4c62d083cd6b9a7d2b9e450c4406"
  },
  "kernelspec": {
   "display_name": "Python 3.9.5 ('data_pipeline_scraping')",
   "language": "python",
   "name": "python3"
  },
  "language_info": {
   "codemirror_mode": {
    "name": "ipython",
    "version": 3
   },
   "file_extension": ".py",
   "mimetype": "text/x-python",
   "name": "python",
   "nbconvert_exporter": "python",
   "pygments_lexer": "ipython3",
   "version": "3.9.7"
  },
  "orig_nbformat": 4
 },
 "nbformat": 4,
 "nbformat_minor": 2
}
